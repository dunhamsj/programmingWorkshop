{
 "cells": [
  {
   "cell_type": "markdown",
   "metadata": {},
   "source": [
    "# Python\n",
    "\n",
    "## *This is based on Python version 3.x"
   ]
  },
  {
   "cell_type": "markdown",
   "metadata": {},
   "source": [
    "A high-level language developed in the late 1980s, named after [Monty Python's Flying Circus](https://en.wikipedia.org/wiki/Monty_Python%27s_Flying_Circus)."
   ]
  },
  {
   "cell_type": "markdown",
   "metadata": {},
   "source": [
    "## Getting python\n",
    "\n",
    "There are at least two ways to get python:\n",
    "\n",
    "1. Download with homebrew: `brew install python`\n",
    "2. Download [anaconda](https://www.anaconda.com/products/distribution)\n",
    "\n",
    "My preference is homebrew, because that only installs python. Then, you can add libraries as you need them with `pip` (python installing python). Anaconda installs a whole bunch of stuff at once, which will probably have everything you need, but may have a bunch of extra stuff that you don't need, and that may take up unnecessary space on your machine"
   ]
  },
  {
   "cell_type": "markdown",
   "metadata": {},
   "source": [
    "## Hello, World! in python\n",
    "\n",
    "In Python, this program is very simple. Open up a terminal and enter `python`"
   ]
  },
  {
   "cell_type": "code",
   "execution_count": null,
   "metadata": {},
   "outputs": [],
   "source": [
    "print( 'Hello, World!' )"
   ]
  },
  {
   "cell_type": "markdown",
   "metadata": {},
   "source": [
    "If we wanted to, we could also define a variable,"
   ]
  },
  {
   "cell_type": "code",
   "execution_count": null,
   "metadata": {},
   "outputs": [],
   "source": [
    "phrase = 'Hello, World!'\n",
    "print( phrase )"
   ]
  },
  {
   "cell_type": "markdown",
   "metadata": {},
   "source": [
    "## Lists\n",
    "\n",
    "In Python, a [list](https://docs.python.org/2.7/tutorial/datastructures.html \"Python documentation for lists\") is a discrete collection of elements, separated by commas, and enclosed in square brackets. They are very general in that different types of data can be contained in the same list, i.e. floats, integers, strings, tuples, other lists, etc. Making a list is very simple, for example:"
   ]
  },
  {
   "cell_type": "code",
   "execution_count": null,
   "metadata": {},
   "outputs": [],
   "source": [
    "##### With characters\n",
    "my_list_chars = [ 'a', 'b', 'c' ]\n",
    "print( my_list_chars )\n",
    "\n",
    "# Using indexing\n",
    "print( my_list_chars[0] )\n",
    "print( my_list_chars[1] )\n",
    "print( my_list_chars[2] )\n",
    "\n",
    "# Using slicing (NOTE: this prints elements 0 and 1. So the number after the colon is NOT included)\n",
    "print( my_list_chars[0:2] )\n",
    "\n",
    "##### With integers\n",
    "my_list_ints = [ 1 , 2 , 3 ]\n",
    "print( my_list_ints )\n",
    "\n",
    "# Using indexing\n",
    "print( my_list_ints[0] )\n",
    "print( my_list_ints[1] )\n",
    "print( my_list_ints[2] )\n",
    "\n",
    "# Using slicing\n",
    "print( my_list_ints[0:2] )\n",
    "\n",
    "# Mixed data types\n",
    "my_list = [ 'a', 'b', 'c' ,1 ,2 ,3 ,'do' ,'re' ,'me' ]\n",
    "print( my_list )"
   ]
  },
  {
   "cell_type": "markdown",
   "metadata": {},
   "source": [
    "By default, [:N] means \"start from the element at index 0 and go until the *N-1* element, and [N:] means \"start from the element at index N and go until the end of the list. So lists are very versatile, but in practice when I work with lists they are usually always numbers."
   ]
  },
  {
   "cell_type": "markdown",
   "metadata": {},
   "source": [
    "## For loops\n",
    "\n",
    "I think of a [for loop](https://docs.python.org/2/tutorial/controlflow.html \"Python documentation for for loops\") this way: I want to **loop** through each element **in** a **list**, and **for** each element I want to do something. For example, say we just wanted to print every element in a list, but on a separate line. In other words, `for` `each_element` `in` `my_list`, we want to `print` `each_element`."
   ]
  },
  {
   "cell_type": "code",
   "execution_count": null,
   "metadata": {},
   "outputs": [],
   "source": [
    "for each_element in my_list:\n",
    "    print( each_element )"
   ]
  },
  {
   "cell_type": "markdown",
   "metadata": {},
   "source": [
    "So, the variable `each_element` is iteratively assigned each value of the list. Alternatively we could use indexing to print each value:"
   ]
  },
  {
   "cell_type": "code",
   "execution_count": null,
   "metadata": {},
   "outputs": [],
   "source": [
    "print( my_list[0] )\n",
    "print( my_list[1] )\n",
    "print( my_list[2] )\n",
    "print( my_list[3] )\n",
    "print( my_list[4] )\n",
    "print( my_list[5] )\n",
    "print( my_list[6] )\n",
    "print( my_list[7] )\n",
    "print( my_list[8] )"
   ]
  },
  {
   "cell_type": "markdown",
   "metadata": {},
   "source": [
    "But clearly this is tedious (a good rule of thumb in coding is when something seems tedious, it can probably be accomplished with a loop, a function, or something else). So, instead of looping through each element in the list we could loop through a list of integers (created via the [range](https://docs.python.org/2/library/functions.html#range) function) that is the same size as our list, and use indexing to print each value:"
   ]
  },
  {
   "cell_type": "code",
   "execution_count": null,
   "metadata": {},
   "outputs": [],
   "source": [
    "for i in range( len( my_list ) ):\n",
    "    print( my_list[i] )"
   ]
  },
  {
   "cell_type": "markdown",
   "metadata": {},
   "source": [
    "In order to get the correct number of integers I used the [len](https://docs.python.org/2/library/functions.html#len) function. This simply returns the length of the given list. A better way is to define a variable as the length of the array:"
   ]
  },
  {
   "cell_type": "code",
   "execution_count": null,
   "metadata": {},
   "outputs": [],
   "source": [
    "N = len( my_list )\n",
    "\n",
    "for i in range( N ):\n",
    "    print( my_list[i] )\n",
    "    \n",
    "print( '\\nlen( my_list ): {:d}'.format( len( my_list ) ) )"
   ]
  },
  {
   "cell_type": "markdown",
   "metadata": {},
   "source": [
    "## Avoid this common mistake\n",
    "\n",
    "A common mistake (in my experience) is to send in the actual list into the range function instead of the length of the list, i.e\n",
    "\n",
    "list = [ 1 , 2 , 3 , 4 , 5 , 6 ]\n",
    "\n",
    "range( list ) WRONG\n",
    "\n",
    "range( len( list ) ) RIGHT\n",
    "\n",
    "The error you will get is:"
   ]
  },
  {
   "cell_type": "code",
   "execution_count": null,
   "metadata": {},
   "outputs": [],
   "source": [
    "list = [ 1, 2, 3, 4, 5, 6 ]\n",
    "\n",
    "range( list )"
   ]
  },
  {
   "cell_type": "markdown",
   "metadata": {},
   "source": [
    "The range function is pretty versatile:"
   ]
  },
  {
   "cell_type": "code",
   "execution_count": null,
   "metadata": {},
   "outputs": [],
   "source": [
    "N = 10\n",
    "\n",
    "# Default behavior\n",
    "R1 = range( N )\n",
    "print( R1 )\n",
    "\n",
    "# Specifying the start point\n",
    "R2 = range( 1, N )\n",
    "print( R2 )\n",
    "\n",
    "# Specifying the step\n",
    "R3 = range( 1, N, 2 )\n",
    "print( R3 ) \n",
    "\n",
    "# Going backwards (must specify the step)\n",
    "R4 = range( 10, 0, -1 )\n",
    "print( R4 )"
   ]
  },
  {
   "cell_type": "markdown",
   "metadata": {},
   "source": [
    "## List comprehension\n",
    "\n",
    "An alternative (and superior) way to structure a for loop is to use **list comprehension**. It has the same functionality as a for loop, but is much faster. I don't use it much (but I should), but it goes something like this:"
   ]
  },
  {
   "cell_type": "code",
   "execution_count": null,
   "metadata": {},
   "outputs": [],
   "source": [
    "N = 10\n",
    "nums = range( N )\n",
    "\n",
    "# Old way\n",
    "squares = []\n",
    "for i in range( N ):\n",
    "    squares.append( nums[i]**2 )\n",
    "    \n",
    "print( squares )\n",
    "\n",
    "# New way\n",
    "squares = [ nums[i]**2 for i in range( N )]\n",
    "\n",
    "print( squares )"
   ]
  },
  {
   "cell_type": "code",
   "execution_count": null,
   "metadata": {},
   "outputs": [],
   "source": [
    "from time import time\n",
    "\n",
    "# Setting this to 1.0e8 crashed my computer, just fyi\n",
    "N = int( 1.0e7 )\n",
    "\n",
    "nums = range( N )\n",
    "\n",
    "print( '\\n--------------' )\n",
    "print( 'Timing info' )\n",
    "\n",
    "start = time()\n",
    "for i in range( N ):\n",
    "    squares.append( nums[i]**2 )\n",
    "print( '{:.16e} s'.format( time() - start ) )\n",
    "\n",
    "start = time()\n",
    "squares = [ nums[i]**2 for i in range( N ) ]\n",
    "print( '{:.16e} s'.format( time() - start ) )"
   ]
  },
  {
   "cell_type": "markdown",
   "metadata": {
    "collapsed": true
   },
   "source": [
    "Finally, [here](https://docs.python.org/2.7/tutorial/datastructures.html#looping-techniques) is Python's looping tutorial. "
   ]
  }
 ],
 "metadata": {
  "kernelspec": {
   "display_name": "Python 3",
   "language": "python",
   "name": "python3"
  },
  "language_info": {
   "codemirror_mode": {
    "name": "ipython",
    "version": 3
   },
   "file_extension": ".py",
   "mimetype": "text/x-python",
   "name": "python",
   "nbconvert_exporter": "python",
   "pygments_lexer": "ipython3",
   "version": "3.9.13"
  }
 },
 "nbformat": 4,
 "nbformat_minor": 1
}
