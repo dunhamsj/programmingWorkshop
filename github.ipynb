{
 "cells": [
  {
   "cell_type": "markdown",
   "metadata": {},
   "source": [
    "# GitHub\n",
    "\n",
    "git is a powerful tool. However, its usefulness is drastically increased when used in conjunction with [GitHub](https://github.com), an online hub for git repositories."
   ]
  },
  {
   "cell_type": "markdown",
   "metadata": {},
   "source": [
    "## Clone a repository\n",
    "\n",
    "To clone a repository from a Git account onto your machine you need to know the url that points to the directory. But first, `cd` into the directory on your machine where you want to store the new folder (e.g. ~/Desktop). Next, in your terminal, enter:\n",
    "\n",
    "`git clone https://github.com/UserName/RepositoryName`\n",
    "\n",
    "As a concrete example, let's clone the repository that holds the data for this workshop:\n",
    "\n",
    "`git clone https://github.com/dunhamsj/ProgrammingWorkshop`\n",
    "\n",
    "Now if you type `ls` you should see a new folder called \"ProgrammingWorkshop\". Next, `cd` into ProgrammingWorkshop. Next, type `git status`. This checks the status of the folder, so if someone else adds, modifies, or deletes something, the output of this command will tell you. At this point it should say that everything is normal."
   ]
  },
  {
   "cell_type": "markdown",
   "metadata": {},
   "source": [
    "# Working with your own repository\n",
    "\n",
    "If you have a Github (or BitBucket) account you can create your own repository on the website (this is how I do it). Once you do, clone it onto your own machine. Next, `cd` into it and create a file called 'FirstGitFile.txt' and put some text in it. Once that is done, type `git status`. It should say something like there are untracked files. This is because the folder on your machine is different from the one on your Github account. To add your new file to Github, you need three commands (note they are in alphabetical order, and this is the order you will usually enter them):\n",
    "\n",
    "* `git add file1 file2 ...`\n",
    "* `git commit -m \"Insert message here\"`\n",
    "* `git push -u origin main`\n",
    "\n",
    "Now we'll go through each of these, one by one.\n",
    "\n",
    "## git add file1 file2 ...\n",
    "The [add](https://git-scm.com/docs/git-add) command adds the file(s) to version control so Git can track it(them).\n",
    "\n",
    "## git commit -m \"Insert message here\"\n",
    "The [commit](https://git-scm.com/docs/git-commit) command \"stages\" what you just added. Note that with \"-m\" flag, you must enter a message, otherwise it won't work.\n",
    "\n",
    "## git push -u origin main\n",
    "This command is extra when compared to just using Git on your personal machine. It pushes your additions to your Github account. Once this is done you can go to your account and you should see that the last commit was just a few seconds ago. I'm not sure what the `-u` does, but I always include it. `origin` refers to the remote location (i.e., GitHub), and `main` refers to the branch at that remote location. Again type `git status` and check that everything is up to date."
   ]
  },
  {
   "cell_type": "code",
   "execution_count": null,
   "metadata": {
    "collapsed": true
   },
   "outputs": [],
   "source": []
  }
 ],
 "metadata": {
  "kernelspec": {
   "display_name": "Python 3",
   "language": "python",
   "name": "python3"
  },
  "language_info": {
   "codemirror_mode": {
    "name": "ipython",
    "version": 3
   },
   "file_extension": ".py",
   "mimetype": "text/x-python",
   "name": "python",
   "nbconvert_exporter": "python",
   "pygments_lexer": "ipython3",
   "version": "3.9.13"
  }
 },
 "nbformat": 4,
 "nbformat_minor": 1
}
